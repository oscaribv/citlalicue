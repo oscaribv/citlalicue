{
 "cells": [
  {
   "cell_type": "code",
   "execution_count": null,
   "metadata": {},
   "outputs": [],
   "source": [
    "#Load basic libraries\n",
    "from __future__ import print_function, division, absolute_import\n",
    "import numpy as np\n",
    "import matplotlib.pyplot as plt\n",
    "\n",
    "#Import the detrend class from citlalicue\n",
    "from citlalicue.detrending import detrend"
   ]
  },
  {
   "cell_type": "code",
   "execution_count": null,
   "metadata": {},
   "outputs": [],
   "source": [
    "#Create the instance \"star\" using the \"detrend\" class\n",
    "#The name of the input file in this case is \"pimen.dat\"\n",
    "s14 = detrend(\"Sector_14.dat\",star_name='TOI-1260',tbin=3/24)\n",
    "s21 = detrend(\"Sector_21.dat\",star_name='TOI-1260',tbin=3/24)"
   ]
  },
  {
   "cell_type": "code",
   "execution_count": null,
   "metadata": {},
   "outputs": [],
   "source": [
    "#Add transits, so they can be removed from the detrending routines\n",
    "#pars -> [T0, P, a/R*, b, Rp/R*] x Number of planets\n",
    "#ldc  -> u1, u2\n",
    "planet_pars = [1684.0113989,3.1274912,12.33,0.0,0.032,1686.11832,7.4932,22.1,0.0,0.039,\n",
    "               1696.5856296,16.6124839,38.7279015,0.44,0.038]\n",
    "ldc = [0.41,0.17]\n",
    "s14.add_transits(pars=planet_pars,ldc=ldc)\n",
    "s21.add_transits(pars=planet_pars,ldc=ldc)\n",
    "s14.mask_transits(windows=5/24.)\n",
    "s21.mask_transits(windows=5/24.)"
   ]
  },
  {
   "cell_type": "code",
   "execution_count": null,
   "metadata": {},
   "outputs": [],
   "source": [
    "s14.plot()\n",
    "s21.plot()"
   ]
  },
  {
   "cell_type": "code",
   "execution_count": null,
   "metadata": {},
   "outputs": [],
   "source": [
    "#Let us create a GP using a exponential kernel\n",
    "s14.get_gp(Kernel=\"Exp\",metric=1e3)\n",
    "s21.get_gp(Kernel=\"Exp\",metric=1e3)\n",
    "#This creates the GP with dummy values for the GP hyperparameters"
   ]
  },
  {
   "cell_type": "code",
   "execution_count": null,
   "metadata": {},
   "outputs": [],
   "source": [
    "s14.predict()\n",
    "s21.predict()"
   ]
  },
  {
   "cell_type": "code",
   "execution_count": null,
   "metadata": {},
   "outputs": [],
   "source": [
    "s14.optimize()\n",
    "s21.optimize()"
   ]
  },
  {
   "cell_type": "code",
   "execution_count": null,
   "metadata": {},
   "outputs": [],
   "source": [
    "s14.predict()\n",
    "s21.predict()"
   ]
  },
  {
   "cell_type": "code",
   "execution_count": null,
   "metadata": {},
   "outputs": [],
   "source": [
    "#This step might take long time to excecute, be patient!\n",
    "s14.detrend('in')\n",
    "s21.detrend('in')\n",
    "#Now we have a file called *detrend.dat file with the detrended light curve"
   ]
  },
  {
   "cell_type": "code",
   "execution_count": null,
   "metadata": {},
   "outputs": [],
   "source": [
    "s14.plot(save=True,fname='s14_lc.pdf')\n",
    "s21.plot(save=True,fname='s21_lc.pdf')"
   ]
  },
  {
   "cell_type": "code",
   "execution_count": null,
   "metadata": {},
   "outputs": [],
   "source": [
    "plt.plot(s21.time,s21.flux_planet)\n",
    "plt.xlim(1895.6,1896.2)"
   ]
  },
  {
   "cell_type": "code",
   "execution_count": null,
   "metadata": {},
   "outputs": [],
   "source": [
    "s14.cut_transits()\n",
    "s21.cut_transits()\n",
    "#Now we have cut the transits and they are stored in the *_detrended_cut.dat file\n",
    "#Let us plot how the new data set looks like\n",
    "plt.figure(figsize=(15,5))\n",
    "plt.plot(s14.time_cut,s14.flux_detrended_cut,'k.')\n",
    "plt.plot(s14.time,s14.flux_planet,'r')\n",
    "plt.plot(s21.time_cut,s21.flux_detrended_cut,'k.')\n",
    "plt.plot(s21.time,s21.flux_planet,'r')"
   ]
  },
  {
   "cell_type": "code",
   "execution_count": null,
   "metadata": {},
   "outputs": [],
   "source": []
  }
 ],
 "metadata": {
  "kernelspec": {
   "display_name": "Python 3 (ipykernel)",
   "language": "python",
   "name": "python3"
  },
  "language_info": {
   "codemirror_mode": {
    "name": "ipython",
    "version": 3
   },
   "file_extension": ".py",
   "mimetype": "text/x-python",
   "name": "python",
   "nbconvert_exporter": "python",
   "pygments_lexer": "ipython3",
   "version": "3.11.2"
  }
 },
 "nbformat": 4,
 "nbformat_minor": 4
}
